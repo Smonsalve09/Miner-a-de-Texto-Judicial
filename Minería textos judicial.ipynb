{
  "cells": [
    {
      "cell_type": "markdown",
      "source": [
        "# <font color='#6CAD50'> Taller PLN: Minería de texto\n",
        "Integrantes:\n",
        "* Sebastián Monsalve\n",
        "* Valentina Ortega\n",
        "\n"
      ],
      "metadata": {
        "id": "oaQWprO4OIyC"
      }
    },
    {
      "cell_type": "markdown",
      "source": [
        "## <font color='#6CAD50'>**Introducción del problema:**\n",
        "\n",
        "* **Problema identificado:** Falta de agilidad y demora en los procesos judiciales.\n",
        "\n",
        "Normalmente un proceso judicial es un acto que conlleva de un tiempo considerable en resolverse, esto puede ser debido al cúmulo de archivos y documentación de cada caso que es necesario ser leído por una persona para que esta pueda considerar remitirlo al departamento correspondiente al caso, pero esto es un proceso limitado y por tal motivo genera retrasos en el proceso de resolución del mismo.\n",
        "Es innegable el valor de la tecnología para la sociedad y por supuesto para los procesos judiciales es una herramienta que puede aportar mucho como sociedad que se lleven a cabo con más agilidad,\n",
        "\n",
        "* **Solución:**  Por tal motivo decidimos atender esta problemática con el desarrollo de un algoritmo que utilizando métodos de minería de texto, tenga la capacidad de clasificar un caso según su tipo, y así agilizar de una mejor manera el primer filtro que cualquier denuncia puede tener."
      ],
      "metadata": {
        "id": "drcGi9BGhcQ2"
      }
    },
    {
      "cell_type": "markdown",
      "source": [
        "##<font color='#6CAD50'>**FUNCIONES**"
      ],
      "metadata": {
        "id": "w-ImzA7bd2um"
      }
    },
    {
      "cell_type": "markdown",
      "source": [
        "###<font color='#6CAD50'>*Lectura de archivos*"
      ],
      "metadata": {
        "id": "KlTkKNuwOdVe"
      }
    },
    {
      "cell_type": "code",
      "execution_count": null,
      "metadata": {
        "id": "cfCq4JsClUdl",
        "colab": {
          "base_uri": "https://localhost:8080/"
        },
        "outputId": "18704056-6c7a-43da-d9fa-b379cd0c4bcb"
      },
      "outputs": [
        {
          "output_type": "stream",
          "name": "stderr",
          "text": [
            "[nltk_data] Downloading package punkt to /root/nltk_data...\n",
            "[nltk_data]   Package punkt is already up-to-date!\n"
          ]
        },
        {
          "output_type": "execute_result",
          "data": {
            "text/plain": [
              "True"
            ]
          },
          "metadata": {},
          "execution_count": 1
        }
      ],
      "source": [
        "# Importando librerías\n",
        "import pandas as pd  # Análisis de datos, manejo de BD\n",
        "import numpy as np  #Álgebra lineal, manejo de listas [] y tuplas ()\n",
        "import nltk # Procesamiento de Lenguaje Natural\n",
        "import os #Para funciones del sistema\n",
        "nltk.download('punkt')"
      ]
    },
    {
      "cell_type": "markdown",
      "source": [
        "Esta función sirve para leer y guardar el texto de varios archivos"
      ],
      "metadata": {
        "id": "By9Kd91vwawo"
      }
    },
    {
      "cell_type": "code",
      "source": [
        "#Lectura de múltiples archivos\n",
        "import pathlib\n",
        "def lectura(path):\n",
        "  lista=[]\n",
        "  ruta = pathlib.Path(path)\n",
        "  for archivo in ruta.glob('*.txt'):\n",
        "    optext = open(archivo,'r')\n",
        "    text = optext.read() #Lectura del archivo\n",
        "\n",
        "    optext.close() #Cierre del archivo\n",
        "\n",
        "    lista.append(text)\n",
        "  return lista"
      ],
      "metadata": {
        "id": "mj413YV_fb3I"
      },
      "execution_count": null,
      "outputs": []
    },
    {
      "cell_type": "markdown",
      "source": [
        "### <font color='#6CAD50'>*Tokenizar texto*"
      ],
      "metadata": {
        "id": "mHkD8nbceHsH"
      }
    },
    {
      "cell_type": "code",
      "source": [
        "import nltk.corpus # Texto de muestra a continuación para hacer ensayos\n",
        "from nltk.tokenize import word_tokenize # Separar la frase en \"tokens\"\n",
        "# importing word_tokenize from nltk"
      ],
      "metadata": {
        "id": "EqIM81t9dFHN"
      },
      "execution_count": null,
      "outputs": []
    },
    {
      "cell_type": "markdown",
      "source": [
        "Esta función tokeniza el contenido de un texto"
      ],
      "metadata": {
        "id": "OnXqLlLKwQ3l"
      }
    },
    {
      "cell_type": "code",
      "source": [
        "def tokenizar(texto):\n",
        "  word_tkn = word_tokenize(texto)\n",
        "  token=[]\n",
        "  #minúsculas\n",
        "  for i in range(len(word_tkn)):\n",
        "    token.append(word_tkn[i].lower())\n",
        "  return token"
      ],
      "metadata": {
        "id": "OwRzyNV_eGTK"
      },
      "execution_count": null,
      "outputs": []
    },
    {
      "cell_type": "markdown",
      "source": [
        "###<font color='#6CAD50'>*Lematización*"
      ],
      "metadata": {
        "id": "YiQMS9RYQSsR"
      }
    },
    {
      "cell_type": "code",
      "source": [
        "# Importing Lemmatizer library from nltk\n",
        "from nltk.stem import WordNetLemmatizer\n",
        "lemmatizer = WordNetLemmatizer()\n",
        "import nltk\n",
        "nltk.download('wordnet')\n",
        "nltk.download('omw-1.4')"
      ],
      "metadata": {
        "id": "c9PEfCktSA_h",
        "colab": {
          "base_uri": "https://localhost:8080/"
        },
        "outputId": "73a054c5-6796-48bf-8eea-4bc8242af3ad"
      },
      "execution_count": null,
      "outputs": [
        {
          "output_type": "stream",
          "name": "stderr",
          "text": [
            "[nltk_data] Downloading package wordnet to /root/nltk_data...\n",
            "[nltk_data]   Package wordnet is already up-to-date!\n",
            "[nltk_data] Downloading package omw-1.4 to /root/nltk_data...\n",
            "[nltk_data]   Package omw-1.4 is already up-to-date!\n"
          ]
        },
        {
          "output_type": "execute_result",
          "data": {
            "text/plain": [
              "True"
            ]
          },
          "metadata": {},
          "execution_count": 25
        }
      ]
    },
    {
      "cell_type": "markdown",
      "source": [
        "Esta función lematiza el contenido tokenizado de un texto"
      ],
      "metadata": {
        "id": "qXIApfOYwFS7"
      }
    },
    {
      "cell_type": "code",
      "execution_count": null,
      "metadata": {
        "id": "tCRVOLuWmXND"
      },
      "outputs": [],
      "source": [
        "def lemmatizar(token):\n",
        "  lm = token #En token tenemos las palabras de la canción (párrafo, frase)\n",
        "  token_process_lemm=[]\n",
        "  for word in lm :\n",
        "    token_process_lemm.append(lemmatizer.lemmatize(word))\n",
        "  return token_process_lemm"
      ]
    },
    {
      "cell_type": "markdown",
      "metadata": {
        "id": "NKqsqKfrmy54"
      },
      "source": [
        "###<font color='#6CAD50'>*Stop words*"
      ]
    },
    {
      "cell_type": "code",
      "execution_count": null,
      "metadata": {
        "id": "mb2kcVkcmxN3",
        "colab": {
          "base_uri": "https://localhost:8080/"
        },
        "outputId": "855386dc-4713-4948-9969-c59d61af51cc"
      },
      "outputs": [
        {
          "output_type": "stream",
          "name": "stderr",
          "text": [
            "[nltk_data] Downloading package stopwords to /root/nltk_data...\n",
            "[nltk_data]   Package stopwords is already up-to-date!\n"
          ]
        },
        {
          "output_type": "execute_result",
          "data": {
            "text/plain": [
              "True"
            ]
          },
          "metadata": {},
          "execution_count": 4
        }
      ],
      "source": [
        "# importing stopwors from nltk library\n",
        "from nltk import word_tokenize\n",
        "import nltk\n",
        "nltk.download('stopwords')"
      ]
    },
    {
      "cell_type": "markdown",
      "source": [
        "En los siguientes bloques de código se eliminan los signos de puntuación y stopwords del texto"
      ],
      "metadata": {
        "id": "9j-5BNouv2kE"
      }
    },
    {
      "cell_type": "code",
      "source": [
        "#Set de stopwords\n",
        "from nltk.corpus import stopwords\n",
        "palabras_vacias = set(stopwords.words(\"spanish\"))\n",
        "#Set de puntuaciones\n",
        "from string import punctuation\n",
        "puntuacion = set(punctuation)"
      ],
      "metadata": {
        "id": "K15AT45sd3-n"
      },
      "execution_count": null,
      "outputs": []
    },
    {
      "cell_type": "code",
      "source": [
        "def words(token_process_lemm):\n",
        "  word_clean = [x for x in token_process_lemm if x not in palabras_vacias and x not in puntuacion] #El resultado a guardar será la palabra, para cada palabra en token siempre y cuando x no esté en palabras\n",
        "  return word_clean"
      ],
      "metadata": {
        "id": "RDRCZmppcszs"
      },
      "execution_count": null,
      "outputs": []
    },
    {
      "cell_type": "markdown",
      "source": [
        "###<font color='#6CAD50'>*Palabras Clave*"
      ],
      "metadata": {
        "id": "Vm7NmZ5DQFPO"
      }
    },
    {
      "cell_type": "markdown",
      "source": [
        "Esta función halla palabras clave de los diferentes tipos de delito en un texto.\n",
        "Retorna el porcentaje de cada tipo de delito para un caso"
      ],
      "metadata": {
        "id": "TP_k3V1uva8S"
      }
    },
    {
      "cell_type": "code",
      "source": [
        "def funcion_palabras_clave(lista_delitos,text_clean):\n",
        "  contador=[[0]*len(lista_delitos)]*len(lista_delitos)\n",
        "  contador\n",
        "  for i in range(len(text_clean)):\n",
        "    word=text_clean[i]\n",
        "    for j in range(len(lista_delitos)):\n",
        "      if word in lista_delitos[j]:\n",
        "        contador[j][j]+=1\n",
        "\n",
        "  resultado=[[0]*len(lista_delitos)]*len(lista_delitos)\n",
        "  for i in range(len(lista_delitos)):\n",
        "    total= sum(contador[i])\n",
        "    if total>0:\n",
        "      resultado[i]= round(contador[i][i]/total*100,2)\n",
        "  return resultado"
      ],
      "metadata": {
        "id": "QUD1gfl9P4yp"
      },
      "execution_count": null,
      "outputs": []
    },
    {
      "cell_type": "code",
      "source": [
        "# def palabras_clave(text):\n",
        "#   Infan=0;Blancas=0;Drogas=0;Sexual=0\n",
        "#   Key_Words_Drog=['estupefacientes','microtráfico','tráfico', 'red','drogas','sustancias','efectos','psicoactivos','banda','narcotráfico']\n",
        "#   Key_Words_Infan=['menor','edad','violencia', 'explotación','trabajar','niño','niña','vender']\n",
        "#   Key_Words_Blanc=['sexual','entretenimiento','adulto', 'contenido','extranjero','explícito','niña','vender']\n",
        "#   Key_Words_Sex=['sexual','abuso','partes', 'íntimas','tocar','jugar','violencia','violación']\n",
        "\n",
        "#   for i in range(len(text)):\n",
        "\n",
        "#       word=text[i]\n",
        "\n",
        "#       for o in range(len(Key_Words_Drog)):\n",
        "#         if Key_Words_Drog[o]==word:\n",
        "#           Drogas+=1\n",
        "\n",
        "#       for e in range(len(Key_Words_Infan)):\n",
        "#         if Key_Words_Infan[e]==word:\n",
        "#           Infan+=1\n",
        "\n",
        "#       for a in range(len(Key_Words_Blanc)):\n",
        "#         if Key_Words_Blanc[a]==word:\n",
        "#           Blancas+=1\n",
        "\n",
        "#       for u in range(len(Key_Words_Sex)):\n",
        "#         if Key_Words_Sex[u]==word:\n",
        "#           Sexual+=1\n",
        "\n",
        "\n",
        "#   Percent_B=0\n",
        "#   Percent_I=0\n",
        "#   Percent_D=0\n",
        "#   Percent_S=0\n",
        "#   if (Infan+Blancas+Drogas+Sexual)>0:\n",
        "#     Percent_B= round(Blancas/(Infan+Blancas+Drogas+Sexual)*100,2)\n",
        "#     Percent_I= round(Infan/(Infan+Blancas+Drogas+Sexual)*100,2)\n",
        "#     Percent_D= round(Drogas/(Infan+Blancas+Drogas+Sexual)*100,2)\n",
        "#     Percent_S= round(Sexual/(Infan+Blancas+Drogas+Sexual)*100,2)\n",
        "\n",
        "#   Result=\"Potencial Delito: Trata de Blancas: \"+ str(Percent_B)+\"%   Delito Sexual: \"+ str(Percent_S)+ \"%   Trafico de Drogas: \"+str(Percent_D)+ \"%  Explotacion Infantil: \" +  str(Percent_I)+ \"%\"\n",
        "#   return Result"
      ],
      "metadata": {
        "id": "DLnBIVVYJ531"
      },
      "execution_count": null,
      "outputs": []
    },
    {
      "cell_type": "markdown",
      "source": [
        "##<font color='#6CAD50'>**APLICACIÓN**"
      ],
      "metadata": {
        "id": "aSs2GzwvNcAF"
      }
    },
    {
      "cell_type": "markdown",
      "source": [
        "###<font color='#6CAD50'>*Lectura de casos*"
      ],
      "metadata": {
        "id": "TFfBvKwAfyTS"
      }
    },
    {
      "cell_type": "code",
      "source": [
        "lista=lectura('/content/casos')\n",
        "#lista"
      ],
      "metadata": {
        "id": "8gSpCVH4Qr79"
      },
      "execution_count": null,
      "outputs": []
    },
    {
      "cell_type": "markdown",
      "source": [
        "En el siguiente bloque de código se crea un df que contiene los casos"
      ],
      "metadata": {
        "id": "P84OnpmxnK4u"
      }
    },
    {
      "cell_type": "code",
      "source": [
        "d=pd.DataFrame(lista)\n",
        "styler = d.style\n",
        "df_casos = styler.set_table_styles([\n",
        "    {\"selector\": \"tr\", \"props\": \"line-height: 24px;\"},\n",
        "    {\"selector\": \"td,th\", \"props\": \"line-height: inherit; padding: 0;\"}\n",
        "])"
      ],
      "metadata": {
        "id": "wMzUDZKdlxxK"
      },
      "execution_count": null,
      "outputs": []
    },
    {
      "cell_type": "markdown",
      "source": [
        "###<font color='#6CAD50'>*Tokenización, Lemmatización, Stopwords y Palabras clave*\n"
      ],
      "metadata": {
        "id": "F_k_JSbbf2vU"
      }
    },
    {
      "cell_type": "markdown",
      "source": [
        "Listas de palabras clave de los diferentes delitos"
      ],
      "metadata": {
        "id": "v9Im82P8sH1x"
      }
    },
    {
      "cell_type": "code",
      "source": [
        "lista_delitos=[['estupefacientes','microtráfico','tráfico', 'red','drogas','sustancias','efectos','psicoactivos','banda','narcotráfico'],\n",
        "               ['menor','edad','violencia', 'explotación','trabajar','niño','niña','vender'],\n",
        "               ['sexual','entretenimiento','adulto', 'contenido','extranjero','explícito','niña','vender'],\n",
        "               ['sexual','abuso','partes', 'íntimas','tocar','jugar','violencia','violación']]"
      ],
      "metadata": {
        "id": "cI0UcAm2Lc9_"
      },
      "execution_count": null,
      "outputs": []
    },
    {
      "cell_type": "markdown",
      "source": [
        "En el siguiente bloque se aplican todas las funciones a cada caso:\n",
        "* ```tokenizar()```: Tokeniza el texto\n",
        "* ```lemmatizar()```: Lematiza la lista tokenizada\n",
        "* ```words()```: Crea una lista de palabras sin stopwords\n",
        "* ```funcion_palabras_clave()```: Nos da los porcentajes de cada delito para el caso\n"
      ],
      "metadata": {
        "id": "BWkahPg2f9hs"
      }
    },
    {
      "cell_type": "code",
      "source": [
        "result=[]\n",
        "for i in range(len(lista)):\n",
        "  token=tokenizar(lista[i])\n",
        "  token_process=lemmatizar(token)\n",
        "  text_clean=words(token_process)\n",
        "  result.append(funcion_palabras_clave(lista_delitos,text_clean))"
      ],
      "metadata": {
        "id": "f7L7Dt2BQwSr"
      },
      "execution_count": null,
      "outputs": []
    },
    {
      "cell_type": "markdown",
      "source": [
        "###<font color='#6CAD50'>*Porcentaje por delito para caso*"
      ],
      "metadata": {
        "id": "8n_gMbQ5gRgm"
      }
    },
    {
      "cell_type": "markdown",
      "source": [
        "Se crea un dataframe ```porc_caso```\n",
        "que contiene el porcentaje por delito para cada caso"
      ],
      "metadata": {
        "id": "VkdUYP4TszbN"
      }
    },
    {
      "cell_type": "code",
      "source": [
        "#LISTA PARA NÚMERO DE CASOS\n",
        "inde= []\n",
        "for i in range(len(lista)):\n",
        "  inde.append(\"Caso {}\".format(i+1))"
      ],
      "metadata": {
        "id": "mbijubYmTkQF"
      },
      "execution_count": null,
      "outputs": []
    },
    {
      "cell_type": "code",
      "source": [
        "delitos=[\"Drogas\",\"Infantil\",\"Blancas\",\"Sexual\"]\n",
        "porc_caso= pd.DataFrame(result,columns=delitos,index=inde)\n",
        "#porc_caso Contiene el porcentaje de delito para cada caso"
      ],
      "metadata": {
        "id": "oSNXQClcTLFK"
      },
      "execution_count": null,
      "outputs": []
    },
    {
      "cell_type": "markdown",
      "source": [
        "###<font color='#6CAD50'>*Clasificación de posible delito*"
      ],
      "metadata": {
        "id": "0HBo3embgf0u"
      }
    },
    {
      "cell_type": "markdown",
      "source": [
        "Se crea un dataframe ```df_clasificación``` que contiene la clasificación de delito por caso y su respectivo porcentaje"
      ],
      "metadata": {
        "id": "7pQDSCltuSN6"
      }
    },
    {
      "cell_type": "markdown",
      "source": [
        "Para esto:\n",
        "* **Bloque 1:** Se obtienen los valores máximos de los resultados obtenidos anteriormente (almacenados en la lista```result```) y su posición\n",
        "\n",
        "* **Bloque 2:** Se obtienen los tipos de delito de acuerdo al porcentaje máximo con su posición\n",
        "\n",
        "* **Bloque 3:** Se contruye el dataframe ```df_clasificación``` con los resultados anteriores"
      ],
      "metadata": {
        "id": "fPa_KRFZudIk"
      }
    },
    {
      "cell_type": "code",
      "source": [
        "#CICLO para obtener y almacenar los números máximos y su posición\n",
        "posiciones_max= []\n",
        "max_num=[]\n",
        "for i in range(len(result)):\n",
        "  temp = max(result[i])\n",
        "  for k, j in enumerate(result[i]):\n",
        "    if j == temp:\n",
        "      posiciones_max.append(k)\n",
        "  max_num.append(round(temp,2))\n"
      ],
      "metadata": {
        "id": "r9L8SjxwWnYx"
      },
      "execution_count": null,
      "outputs": []
    },
    {
      "cell_type": "code",
      "source": [
        "#LISTA CON CASOS CLASIFICADOS\n",
        "tipo_delito=[]\n",
        "for i in range(len(result)):\n",
        "  tipo_delito.append(delitos[posiciones_max[i]])\n",
        "\n",
        "tipos=pd.DataFrame(tipo_delito)"
      ],
      "metadata": {
        "id": "FbIWCupfZYdK"
      },
      "execution_count": null,
      "outputs": []
    },
    {
      "cell_type": "code",
      "source": [
        "posiciones=pd.DataFrame(posiciones_max)\n",
        "porcentajes=pd.DataFrame(max_num)\n",
        "\n",
        "df1= pd.concat([pd.DataFrame(inde),porcentajes,tipos],axis=1)\n",
        "df1.columns = [\"Num_Caso\",\"Porcentaje\",\"Posible Delito\"]\n",
        "df_clasificacion= df1.set_index('Num_Caso')\n",
        "\n",
        "#df_clasificacion contiene la calsificación de delito por caso"
      ],
      "metadata": {
        "id": "cTucfCFbXcKE"
      },
      "execution_count": null,
      "outputs": []
    },
    {
      "cell_type": "markdown",
      "source": [
        "##<font color='#6CAD50'>**RESULTADOS**"
      ],
      "metadata": {
        "id": "cRvbdiKCrsbJ"
      }
    },
    {
      "cell_type": "code",
      "source": [
        "df_casos"
      ],
      "metadata": {
        "colab": {
          "base_uri": "https://localhost:8080/",
          "height": 450
        },
        "id": "UH65dpw8rqcf",
        "outputId": "c06b18d7-a1cd-4449-8267-ea258f99d2b7"
      },
      "execution_count": null,
      "outputs": [
        {
          "output_type": "execute_result",
          "data": {
            "text/plain": [
              "<pandas.io.formats.style.Styler at 0x7f41a5592e10>"
            ],
            "text/html": [
              "<style type=\"text/css\">\n",
              "#T_b09ae_ tr {\n",
              "  line-height: 24px;\n",
              "}\n",
              "#T_b09ae_ td {\n",
              "  line-height: inherit;\n",
              "  padding: 0;\n",
              "}\n",
              "#T_b09ae_ th {\n",
              "  line-height: inherit;\n",
              "  padding: 0;\n",
              "}\n",
              "</style>\n",
              "<table id=\"T_b09ae_\" class=\"dataframe\">\n",
              "  <thead>\n",
              "    <tr>\n",
              "      <th class=\"blank level0\" >&nbsp;</th>\n",
              "      <th class=\"col_heading level0 col0\" >0</th>\n",
              "    </tr>\n",
              "  </thead>\n",
              "  <tbody>\n",
              "    <tr>\n",
              "      <th id=\"T_b09ae_level0_row0\" class=\"row_heading level0 row0\" >0</th>\n",
              "      <td id=\"T_b09ae_row0_col0\" class=\"data row0 col0\" >IGNACIO, con domicilio en Bogotá, es detenido en la \n",
              "transversal superior debido a que previas investigaciones\n",
              " en cubierto se identifica que es uno de los que lidera la\n",
              " red de microtráfico y venta ilegal de estupefacientes en\n",
              " el mismo sector de su detención, además fue capturado bajo \n",
              "efectos de sustancias psicoactivas.</td>\n",
              "    </tr>\n",
              "    <tr>\n",
              "      <th id=\"T_b09ae_level0_row1\" class=\"row_heading level0 row1\" >1</th>\n",
              "      <td id=\"T_b09ae_row1_col0\" class=\"data row1 col0\" >Los padres de Camilo presentan una denuncia a la \n",
              "fiscalía debido a que en repetidas ocasiones su tía\n",
              " Elen lo ha llamado a su cuarto para hacerle una \n",
              "supuesta revision médica en la cual toca y juega con\n",
              " sus partes íntimas</td>\n",
              "    </tr>\n",
              "    <tr>\n",
              "      <th id=\"T_b09ae_level0_row2\" class=\"row_heading level0 row2\" >2</th>\n",
              "      <td id=\"T_b09ae_row2_col0\" class=\"data row2 col0\" >ANA es capturada luego de que las autoridades realizaran \n",
              "por medio de una orden judicial allanamiento en su \n",
              "residencia ubicada en la ciudad de medellin, luego de \n",
              "que se conoció evidencia probatoria de que en su \n",
              "residencia se custodia parte de la droga y los \n",
              "estupefacientes de la banda “los del socorro” quienes \n",
              "financian su grupo armado con la red de microtráfico \n",
              "instaruada en el sector. </td>\n",
              "    </tr>\n",
              "    <tr>\n",
              "      <th id=\"T_b09ae_level0_row3\" class=\"row_heading level0 row3\" >3</th>\n",
              "      <td id=\"T_b09ae_row3_col0\" class=\"data row3 col0\" >GLORIA pretende promover demanda en contra de PEDRO \n",
              "domiciliado en Cartagena, y de RODOLFO con domicilio en \n",
              "Bogotá, señalados de tener en la ciudad de Medellín una \n",
              "serie de casas destinadas para entretenimiento adulto, y\n",
              " practicas sexuales, quienes asegura que enviaron a su \n",
              "hija al extranjero a ser explotada después de haber caído\n",
              " en engaños que la convencieron de adentrarse en el mundo\n",
              " de la creacion de contenido explicito modelaje webcam.</td>\n",
              "    </tr>\n",
              "    <tr>\n",
              "      <th id=\"T_b09ae_level0_row4\" class=\"row_heading level0 row4\" >4</th>\n",
              "      <td id=\"T_b09ae_row4_col0\" class=\"data row4 col0\" >Maritza, dueña de la tienda \"Las margaritas\" presenta una\n",
              " denuncia hacia los padres de Julian, un niño menor de edad \n",
              "de aproximadamente 12 años debido a que lo obligan a trabajar y \n",
              "a vender dulces en los semáforos para ganar un sustento y ni siquiera\n",
              "dejan que se quede con sus ganancias</td>\n",
              "    </tr>\n",
              "    <tr>\n",
              "      <th id=\"T_b09ae_level0_row5\" class=\"row_heading level0 row5\" >5</th>\n",
              "      <td id=\"T_b09ae_row5_col0\" class=\"data row5 col0\" >Juanita es menor de edad, parece tener alrededor de 10 años,\n",
              " vive en una finca desde que nació y trabaja recolectando \n",
              "semillas de café para poder comer y vivir.\n",
              "El trabajo que ella realiza ahí \n",
              "es bastante pesado y las personas encargadas\n",
              " de ella no la dejan tomar un descanso\n",
              " hasta que recolecte por lo mínimo 10 canastas de café.</td>\n",
              "    </tr>\n",
              "    <tr>\n",
              "      <th id=\"T_b09ae_level0_row6\" class=\"row_heading level0 row6\" >6</th>\n",
              "      <td id=\"T_b09ae_row6_col0\" class=\"data row6 col0\" >María y Juan son amigos, un día Juan le dice a María \n",
              "que está muy triste y que necesita de su apoyo, cuando \n",
              "ella va hacia la casa de él y entra, Juan le ofrece una \n",
              "bebida que la deja débil, María recuerda momentos borrosos,\n",
              " entre ellos, se encuentra Juan amarrándola y desnudándola, \n",
              "también recuerda un fuerte dolor en sus partes intimas, María\n",
              "denuncia que sufrió de abuso sexual.</td>\n",
              "    </tr>\n",
              "    <tr>\n",
              "      <th id=\"T_b09ae_level0_row7\" class=\"row_heading level0 row7\" >7</th>\n",
              "      <td id=\"T_b09ae_row7_col0\" class=\"data row7 col0\" >Carlos realiza una denuncia ante la fiscalía general \n",
              "de la nación en contra de los delitos incurridos el \n",
              "presente año por Margarita Casas, hacia su hija a quien\n",
              " sometió a que siendo menor de edad, esta fuera explotada\n",
              " sexualmente por personas mayores y a quienes les ofrecía\n",
              " contenido explícito de la víctima para la comercialización\n",
              " ilegal del mismo.\n",
              "</td>\n",
              "    </tr>\n",
              "  </tbody>\n",
              "</table>\n"
            ]
          },
          "metadata": {},
          "execution_count": 21
        }
      ]
    },
    {
      "cell_type": "code",
      "source": [
        "porc_caso"
      ],
      "metadata": {
        "colab": {
          "base_uri": "https://localhost:8080/",
          "height": 300
        },
        "id": "V3VuvVhFq2d5",
        "outputId": "f067a175-30ca-4dc6-e62a-30640c5a3383"
      },
      "execution_count": null,
      "outputs": [
        {
          "output_type": "execute_result",
          "data": {
            "text/plain": [
              "        Drogas  Infantil  Blancas  Sexual\n",
              "Caso 1   100.0      0.00     0.00     0.0\n",
              "Caso 2     0.0      0.00     0.00   100.0\n",
              "Caso 3   100.0      0.00     0.00     0.0\n",
              "Caso 4     0.0      0.00   100.00     0.0\n",
              "Caso 5     0.0     83.33    16.67     0.0\n",
              "Caso 6     0.0    100.00     0.00     0.0\n",
              "Caso 7     0.0      0.00    25.00    75.0\n",
              "Caso 8     0.0     50.00    50.00     0.0"
            ],
            "text/html": [
              "\n",
              "  <div id=\"df-46b29bfe-877c-4165-8193-500ffb3cc46d\">\n",
              "    <div class=\"colab-df-container\">\n",
              "      <div>\n",
              "<style scoped>\n",
              "    .dataframe tbody tr th:only-of-type {\n",
              "        vertical-align: middle;\n",
              "    }\n",
              "\n",
              "    .dataframe tbody tr th {\n",
              "        vertical-align: top;\n",
              "    }\n",
              "\n",
              "    .dataframe thead th {\n",
              "        text-align: right;\n",
              "    }\n",
              "</style>\n",
              "<table border=\"1\" class=\"dataframe\">\n",
              "  <thead>\n",
              "    <tr style=\"text-align: right;\">\n",
              "      <th></th>\n",
              "      <th>Drogas</th>\n",
              "      <th>Infantil</th>\n",
              "      <th>Blancas</th>\n",
              "      <th>Sexual</th>\n",
              "    </tr>\n",
              "  </thead>\n",
              "  <tbody>\n",
              "    <tr>\n",
              "      <th>Caso 1</th>\n",
              "      <td>100.0</td>\n",
              "      <td>0.00</td>\n",
              "      <td>0.00</td>\n",
              "      <td>0.0</td>\n",
              "    </tr>\n",
              "    <tr>\n",
              "      <th>Caso 2</th>\n",
              "      <td>0.0</td>\n",
              "      <td>0.00</td>\n",
              "      <td>0.00</td>\n",
              "      <td>100.0</td>\n",
              "    </tr>\n",
              "    <tr>\n",
              "      <th>Caso 3</th>\n",
              "      <td>100.0</td>\n",
              "      <td>0.00</td>\n",
              "      <td>0.00</td>\n",
              "      <td>0.0</td>\n",
              "    </tr>\n",
              "    <tr>\n",
              "      <th>Caso 4</th>\n",
              "      <td>0.0</td>\n",
              "      <td>0.00</td>\n",
              "      <td>100.00</td>\n",
              "      <td>0.0</td>\n",
              "    </tr>\n",
              "    <tr>\n",
              "      <th>Caso 5</th>\n",
              "      <td>0.0</td>\n",
              "      <td>83.33</td>\n",
              "      <td>16.67</td>\n",
              "      <td>0.0</td>\n",
              "    </tr>\n",
              "    <tr>\n",
              "      <th>Caso 6</th>\n",
              "      <td>0.0</td>\n",
              "      <td>100.00</td>\n",
              "      <td>0.00</td>\n",
              "      <td>0.0</td>\n",
              "    </tr>\n",
              "    <tr>\n",
              "      <th>Caso 7</th>\n",
              "      <td>0.0</td>\n",
              "      <td>0.00</td>\n",
              "      <td>25.00</td>\n",
              "      <td>75.0</td>\n",
              "    </tr>\n",
              "    <tr>\n",
              "      <th>Caso 8</th>\n",
              "      <td>0.0</td>\n",
              "      <td>50.00</td>\n",
              "      <td>50.00</td>\n",
              "      <td>0.0</td>\n",
              "    </tr>\n",
              "  </tbody>\n",
              "</table>\n",
              "</div>\n",
              "      <button class=\"colab-df-convert\" onclick=\"convertToInteractive('df-46b29bfe-877c-4165-8193-500ffb3cc46d')\"\n",
              "              title=\"Convert this dataframe to an interactive table.\"\n",
              "              style=\"display:none;\">\n",
              "        \n",
              "  <svg xmlns=\"http://www.w3.org/2000/svg\" height=\"24px\"viewBox=\"0 0 24 24\"\n",
              "       width=\"24px\">\n",
              "    <path d=\"M0 0h24v24H0V0z\" fill=\"none\"/>\n",
              "    <path d=\"M18.56 5.44l.94 2.06.94-2.06 2.06-.94-2.06-.94-.94-2.06-.94 2.06-2.06.94zm-11 1L8.5 8.5l.94-2.06 2.06-.94-2.06-.94L8.5 2.5l-.94 2.06-2.06.94zm10 10l.94 2.06.94-2.06 2.06-.94-2.06-.94-.94-2.06-.94 2.06-2.06.94z\"/><path d=\"M17.41 7.96l-1.37-1.37c-.4-.4-.92-.59-1.43-.59-.52 0-1.04.2-1.43.59L10.3 9.45l-7.72 7.72c-.78.78-.78 2.05 0 2.83L4 21.41c.39.39.9.59 1.41.59.51 0 1.02-.2 1.41-.59l7.78-7.78 2.81-2.81c.8-.78.8-2.07 0-2.86zM5.41 20L4 18.59l7.72-7.72 1.47 1.35L5.41 20z\"/>\n",
              "  </svg>\n",
              "      </button>\n",
              "      \n",
              "  <style>\n",
              "    .colab-df-container {\n",
              "      display:flex;\n",
              "      flex-wrap:wrap;\n",
              "      gap: 12px;\n",
              "    }\n",
              "\n",
              "    .colab-df-convert {\n",
              "      background-color: #E8F0FE;\n",
              "      border: none;\n",
              "      border-radius: 50%;\n",
              "      cursor: pointer;\n",
              "      display: none;\n",
              "      fill: #1967D2;\n",
              "      height: 32px;\n",
              "      padding: 0 0 0 0;\n",
              "      width: 32px;\n",
              "    }\n",
              "\n",
              "    .colab-df-convert:hover {\n",
              "      background-color: #E2EBFA;\n",
              "      box-shadow: 0px 1px 2px rgba(60, 64, 67, 0.3), 0px 1px 3px 1px rgba(60, 64, 67, 0.15);\n",
              "      fill: #174EA6;\n",
              "    }\n",
              "\n",
              "    [theme=dark] .colab-df-convert {\n",
              "      background-color: #3B4455;\n",
              "      fill: #D2E3FC;\n",
              "    }\n",
              "\n",
              "    [theme=dark] .colab-df-convert:hover {\n",
              "      background-color: #434B5C;\n",
              "      box-shadow: 0px 1px 3px 1px rgba(0, 0, 0, 0.15);\n",
              "      filter: drop-shadow(0px 1px 2px rgba(0, 0, 0, 0.3));\n",
              "      fill: #FFFFFF;\n",
              "    }\n",
              "  </style>\n",
              "\n",
              "      <script>\n",
              "        const buttonEl =\n",
              "          document.querySelector('#df-46b29bfe-877c-4165-8193-500ffb3cc46d button.colab-df-convert');\n",
              "        buttonEl.style.display =\n",
              "          google.colab.kernel.accessAllowed ? 'block' : 'none';\n",
              "\n",
              "        async function convertToInteractive(key) {\n",
              "          const element = document.querySelector('#df-46b29bfe-877c-4165-8193-500ffb3cc46d');\n",
              "          const dataTable =\n",
              "            await google.colab.kernel.invokeFunction('convertToInteractive',\n",
              "                                                     [key], {});\n",
              "          if (!dataTable) return;\n",
              "\n",
              "          const docLinkHtml = 'Like what you see? Visit the ' +\n",
              "            '<a target=\"_blank\" href=https://colab.research.google.com/notebooks/data_table.ipynb>data table notebook</a>'\n",
              "            + ' to learn more about interactive tables.';\n",
              "          element.innerHTML = '';\n",
              "          dataTable['output_type'] = 'display_data';\n",
              "          await google.colab.output.renderOutput(dataTable, element);\n",
              "          const docLink = document.createElement('div');\n",
              "          docLink.innerHTML = docLinkHtml;\n",
              "          element.appendChild(docLink);\n",
              "        }\n",
              "      </script>\n",
              "    </div>\n",
              "  </div>\n",
              "  "
            ]
          },
          "metadata": {},
          "execution_count": 22
        }
      ]
    },
    {
      "cell_type": "code",
      "source": [
        "df_clasificacion"
      ],
      "metadata": {
        "colab": {
          "base_uri": "https://localhost:8080/",
          "height": 332
        },
        "id": "q4Kh6DlNaYDj",
        "outputId": "9afe78f7-069c-4be0-ff87-e2cfe8346095"
      },
      "execution_count": null,
      "outputs": [
        {
          "output_type": "execute_result",
          "data": {
            "text/plain": [
              "          Porcentaje Posible Delito\n",
              "Num_Caso                           \n",
              "Caso 1        100.00         Drogas\n",
              "Caso 2        100.00         Sexual\n",
              "Caso 3        100.00         Drogas\n",
              "Caso 4        100.00        Blancas\n",
              "Caso 5         83.33       Infantil\n",
              "Caso 6        100.00       Infantil\n",
              "Caso 7         75.00         Sexual\n",
              "Caso 8         50.00       Infantil"
            ],
            "text/html": [
              "\n",
              "  <div id=\"df-af7c21ee-0561-4a3b-a28c-5981d07e6ebd\">\n",
              "    <div class=\"colab-df-container\">\n",
              "      <div>\n",
              "<style scoped>\n",
              "    .dataframe tbody tr th:only-of-type {\n",
              "        vertical-align: middle;\n",
              "    }\n",
              "\n",
              "    .dataframe tbody tr th {\n",
              "        vertical-align: top;\n",
              "    }\n",
              "\n",
              "    .dataframe thead th {\n",
              "        text-align: right;\n",
              "    }\n",
              "</style>\n",
              "<table border=\"1\" class=\"dataframe\">\n",
              "  <thead>\n",
              "    <tr style=\"text-align: right;\">\n",
              "      <th></th>\n",
              "      <th>Porcentaje</th>\n",
              "      <th>Posible Delito</th>\n",
              "    </tr>\n",
              "    <tr>\n",
              "      <th>Num_Caso</th>\n",
              "      <th></th>\n",
              "      <th></th>\n",
              "    </tr>\n",
              "  </thead>\n",
              "  <tbody>\n",
              "    <tr>\n",
              "      <th>Caso 1</th>\n",
              "      <td>100.00</td>\n",
              "      <td>Drogas</td>\n",
              "    </tr>\n",
              "    <tr>\n",
              "      <th>Caso 2</th>\n",
              "      <td>100.00</td>\n",
              "      <td>Sexual</td>\n",
              "    </tr>\n",
              "    <tr>\n",
              "      <th>Caso 3</th>\n",
              "      <td>100.00</td>\n",
              "      <td>Drogas</td>\n",
              "    </tr>\n",
              "    <tr>\n",
              "      <th>Caso 4</th>\n",
              "      <td>100.00</td>\n",
              "      <td>Blancas</td>\n",
              "    </tr>\n",
              "    <tr>\n",
              "      <th>Caso 5</th>\n",
              "      <td>83.33</td>\n",
              "      <td>Infantil</td>\n",
              "    </tr>\n",
              "    <tr>\n",
              "      <th>Caso 6</th>\n",
              "      <td>100.00</td>\n",
              "      <td>Infantil</td>\n",
              "    </tr>\n",
              "    <tr>\n",
              "      <th>Caso 7</th>\n",
              "      <td>75.00</td>\n",
              "      <td>Sexual</td>\n",
              "    </tr>\n",
              "    <tr>\n",
              "      <th>Caso 8</th>\n",
              "      <td>50.00</td>\n",
              "      <td>Infantil</td>\n",
              "    </tr>\n",
              "  </tbody>\n",
              "</table>\n",
              "</div>\n",
              "      <button class=\"colab-df-convert\" onclick=\"convertToInteractive('df-af7c21ee-0561-4a3b-a28c-5981d07e6ebd')\"\n",
              "              title=\"Convert this dataframe to an interactive table.\"\n",
              "              style=\"display:none;\">\n",
              "        \n",
              "  <svg xmlns=\"http://www.w3.org/2000/svg\" height=\"24px\"viewBox=\"0 0 24 24\"\n",
              "       width=\"24px\">\n",
              "    <path d=\"M0 0h24v24H0V0z\" fill=\"none\"/>\n",
              "    <path d=\"M18.56 5.44l.94 2.06.94-2.06 2.06-.94-2.06-.94-.94-2.06-.94 2.06-2.06.94zm-11 1L8.5 8.5l.94-2.06 2.06-.94-2.06-.94L8.5 2.5l-.94 2.06-2.06.94zm10 10l.94 2.06.94-2.06 2.06-.94-2.06-.94-.94-2.06-.94 2.06-2.06.94z\"/><path d=\"M17.41 7.96l-1.37-1.37c-.4-.4-.92-.59-1.43-.59-.52 0-1.04.2-1.43.59L10.3 9.45l-7.72 7.72c-.78.78-.78 2.05 0 2.83L4 21.41c.39.39.9.59 1.41.59.51 0 1.02-.2 1.41-.59l7.78-7.78 2.81-2.81c.8-.78.8-2.07 0-2.86zM5.41 20L4 18.59l7.72-7.72 1.47 1.35L5.41 20z\"/>\n",
              "  </svg>\n",
              "      </button>\n",
              "      \n",
              "  <style>\n",
              "    .colab-df-container {\n",
              "      display:flex;\n",
              "      flex-wrap:wrap;\n",
              "      gap: 12px;\n",
              "    }\n",
              "\n",
              "    .colab-df-convert {\n",
              "      background-color: #E8F0FE;\n",
              "      border: none;\n",
              "      border-radius: 50%;\n",
              "      cursor: pointer;\n",
              "      display: none;\n",
              "      fill: #1967D2;\n",
              "      height: 32px;\n",
              "      padding: 0 0 0 0;\n",
              "      width: 32px;\n",
              "    }\n",
              "\n",
              "    .colab-df-convert:hover {\n",
              "      background-color: #E2EBFA;\n",
              "      box-shadow: 0px 1px 2px rgba(60, 64, 67, 0.3), 0px 1px 3px 1px rgba(60, 64, 67, 0.15);\n",
              "      fill: #174EA6;\n",
              "    }\n",
              "\n",
              "    [theme=dark] .colab-df-convert {\n",
              "      background-color: #3B4455;\n",
              "      fill: #D2E3FC;\n",
              "    }\n",
              "\n",
              "    [theme=dark] .colab-df-convert:hover {\n",
              "      background-color: #434B5C;\n",
              "      box-shadow: 0px 1px 3px 1px rgba(0, 0, 0, 0.15);\n",
              "      filter: drop-shadow(0px 1px 2px rgba(0, 0, 0, 0.3));\n",
              "      fill: #FFFFFF;\n",
              "    }\n",
              "  </style>\n",
              "\n",
              "      <script>\n",
              "        const buttonEl =\n",
              "          document.querySelector('#df-af7c21ee-0561-4a3b-a28c-5981d07e6ebd button.colab-df-convert');\n",
              "        buttonEl.style.display =\n",
              "          google.colab.kernel.accessAllowed ? 'block' : 'none';\n",
              "\n",
              "        async function convertToInteractive(key) {\n",
              "          const element = document.querySelector('#df-af7c21ee-0561-4a3b-a28c-5981d07e6ebd');\n",
              "          const dataTable =\n",
              "            await google.colab.kernel.invokeFunction('convertToInteractive',\n",
              "                                                     [key], {});\n",
              "          if (!dataTable) return;\n",
              "\n",
              "          const docLinkHtml = 'Like what you see? Visit the ' +\n",
              "            '<a target=\"_blank\" href=https://colab.research.google.com/notebooks/data_table.ipynb>data table notebook</a>'\n",
              "            + ' to learn more about interactive tables.';\n",
              "          element.innerHTML = '';\n",
              "          dataTable['output_type'] = 'display_data';\n",
              "          await google.colab.output.renderOutput(dataTable, element);\n",
              "          const docLink = document.createElement('div');\n",
              "          docLink.innerHTML = docLinkHtml;\n",
              "          element.appendChild(docLink);\n",
              "        }\n",
              "      </script>\n",
              "    </div>\n",
              "  </div>\n",
              "  "
            ]
          },
          "metadata": {},
          "execution_count": 23
        }
      ]
    }
  ],
  "metadata": {
    "colab": {
      "provenance": [],
      "toc_visible": true
    },
    "kernelspec": {
      "display_name": "Python 3",
      "name": "python3"
    },
    "language_info": {
      "name": "python"
    }
  },
  "nbformat": 4,
  "nbformat_minor": 0
}